{
 "cells": [
  {
   "cell_type": "markdown",
   "id": "3488a2cf",
   "metadata": {},
   "source": [
    "\n"
   ]
  },
  {
   "cell_type": "markdown",
   "id": "dc08744f",
   "metadata": {},
   "source": [
    "# Basic Assignment"
   ]
  },
  {
   "cell_type": "markdown",
   "id": "75362d70",
   "metadata": {},
   "source": [
    "Q1 What will be output of printing following calculations\n",
    "a. 1.5e200 *2.0e210\n",
    "b. 3.4e-320 / 1e100\n",
    "Explain the output\n",
    "Ans) In floating point \n",
    "10^-308 to 10^+308 with 16 to 17 digits of precision\n",
    "Beyond this limit there is arithmetic overflow (inf) or arithmetic underflow (0.0) values assigned"
   ]
  },
  {
   "cell_type": "code",
   "execution_count": 4,
   "id": "7d6feebf",
   "metadata": {},
   "outputs": [
    {
     "data": {
      "text/plain": [
       "inf"
      ]
     },
     "execution_count": 4,
     "metadata": {},
     "output_type": "execute_result"
    }
   ],
   "source": [
    "1.5e200 *2.0e210\n"
   ]
  },
  {
   "cell_type": "code",
   "execution_count": 5,
   "id": "2ded01a6",
   "metadata": {},
   "outputs": [
    {
     "data": {
      "text/plain": [
       "0.0"
      ]
     },
     "execution_count": 5,
     "metadata": {},
     "output_type": "execute_result"
    }
   ],
   "source": [
    "3.4e-320 / 1e100"
   ]
  },
  {
   "cell_type": "markdown",
   "id": "fda3a861",
   "metadata": {},
   "source": [
    "Q2. What is output of printing following\n",
    "a. 1/3\n",
    "b. format(1/3, '.3f')\n",
    "c. format(1/3, '.1f')\n",
    "d. 6*1/3\n",
    "e. 1/3 + 1/3 + 1/3 + 1/3 + 1/3 + 1/3"
   ]
  },
  {
   "cell_type": "code",
   "execution_count": 6,
   "id": "b27524f9",
   "metadata": {},
   "outputs": [
    {
     "data": {
      "text/plain": [
       "0.3333333333333333"
      ]
     },
     "execution_count": 6,
     "metadata": {},
     "output_type": "execute_result"
    }
   ],
   "source": [
    "1/3"
   ]
  },
  {
   "cell_type": "code",
   "execution_count": 8,
   "id": "ecd5b54c",
   "metadata": {},
   "outputs": [
    {
     "data": {
      "text/plain": [
       "'0.333'"
      ]
     },
     "execution_count": 8,
     "metadata": {},
     "output_type": "execute_result"
    }
   ],
   "source": [
    "format(1/3,'.3f')"
   ]
  },
  {
   "cell_type": "code",
   "execution_count": 9,
   "id": "186f1be4",
   "metadata": {},
   "outputs": [
    {
     "data": {
      "text/plain": [
       "'0.3'"
      ]
     },
     "execution_count": 9,
     "metadata": {},
     "output_type": "execute_result"
    }
   ],
   "source": [
    "format(1/3,'.1f')"
   ]
  },
  {
   "cell_type": "code",
   "execution_count": 10,
   "id": "2a9608ec",
   "metadata": {},
   "outputs": [
    {
     "data": {
      "text/plain": [
       "2.0"
      ]
     },
     "execution_count": 10,
     "metadata": {},
     "output_type": "execute_result"
    }
   ],
   "source": [
    "6*1/3 # associativity of this is from left to right "
   ]
  },
  {
   "cell_type": "code",
   "execution_count": 12,
   "id": "36760e5e",
   "metadata": {},
   "outputs": [
    {
     "data": {
      "text/plain": [
       "1.9999999999999998"
      ]
     },
     "execution_count": 12,
     "metadata": {},
     "output_type": "execute_result"
    }
   ],
   "source": [
    "1/3 + 1/3 + 1/3 + 1/3 + 1/3 + 1/3 #as there is limitation of hardware to store the decimal number"
   ]
  },
  {
   "cell_type": "markdown",
   "id": "b550fdcd",
   "metadata": {},
   "source": [
    "Q3. In above question what is difference between output of a and b ? also, d and e?\n",
    "Ans In b there is format specification upto which decimal places we want the output. \n",
    "In e division have more precedence then addition so when there is division 1/3 then due to hardware limitation it stores not exact value so when we sum every thing then addition become less than 2"
   ]
  },
  {
   "cell_type": "markdown",
   "id": "84943daa",
   "metadata": {},
   "source": [
    "Q4. Study how format function works to print floating point values and strings . Then solve following using format function\n",
    "a. print only first 5 decimal values of 22/7 (hint: see b of Q3)\n",
    "b. print Hello string with 5 spaces on right side, 'Hello     ' ( hint: use <)\n",
    "c. print Hello string with 5 spaces on left side, '     Hello' ( hint: use <) \n",
    "d. print Hello string with 5 '#' on left side and 5 '#' on right side, '     Hello     ' ( hint: use ^ and # as fill value)\n",
    "e. print 10 spaces (hint: give 10 as argument)"
   ]
  },
  {
   "cell_type": "code",
   "execution_count": 14,
   "id": "166b36cb",
   "metadata": {},
   "outputs": [
    {
     "data": {
      "text/plain": [
       "'3.142857'"
      ]
     },
     "execution_count": 14,
     "metadata": {},
     "output_type": "execute_result"
    }
   ],
   "source": [
    "format(22/7,'5f')"
   ]
  },
  {
   "cell_type": "code",
   "execution_count": 17,
   "id": "98c4e5cb",
   "metadata": {},
   "outputs": [
    {
     "name": "stdout",
     "output_type": "stream",
     "text": [
      "Hello     "
     ]
    }
   ],
   "source": [
    "print('Hello',end='     ')"
   ]
  },
  {
   "cell_type": "code",
   "execution_count": 22,
   "id": "e27881e2",
   "metadata": {},
   "outputs": [
    {
     "name": "stdout",
     "output_type": "stream",
     "text": [
      "     Hello\n"
     ]
    }
   ],
   "source": [
    "print(\"\",'Hello',sep='     ' )"
   ]
  },
  {
   "cell_type": "code",
   "execution_count": 25,
   "id": "2f029e3c",
   "metadata": {},
   "outputs": [
    {
     "name": "stdout",
     "output_type": "stream",
     "text": [
      "#####Hello#####\n"
     ]
    }
   ],
   "source": [
    "print(\"\",'Hello',\"\",sep='#####')"
   ]
  },
  {
   "cell_type": "code",
   "execution_count": 26,
   "id": "c7c5753e",
   "metadata": {},
   "outputs": [
    {
     "name": "stdout",
     "output_type": "stream",
     "text": [
      "\n"
     ]
    }
   ],
   "source": [
    "print(\"\",sep=\"          \")"
   ]
  },
  {
   "cell_type": "code",
   "execution_count": 29,
   "id": "816fea93",
   "metadata": {},
   "outputs": [
    {
     "data": {
      "text/plain": [
       "'Hello     '"
      ]
     },
     "execution_count": 29,
     "metadata": {},
     "output_type": "execute_result"
    }
   ],
   "source": [
    "format(\"Hello\",\"<10\")"
   ]
  },
  {
   "cell_type": "code",
   "execution_count": 32,
   "id": "aba486c5",
   "metadata": {},
   "outputs": [
    {
     "data": {
      "text/plain": [
       "'     Hello'"
      ]
     },
     "execution_count": 32,
     "metadata": {},
     "output_type": "execute_result"
    }
   ],
   "source": [
    "format(\"Hello\",\">10\")"
   ]
  },
  {
   "cell_type": "code",
   "execution_count": 38,
   "id": "884d2d3a",
   "metadata": {},
   "outputs": [
    {
     "data": {
      "text/plain": [
       "'#####Hello#####'"
      ]
     },
     "execution_count": 38,
     "metadata": {},
     "output_type": "execute_result"
    }
   ],
   "source": [
    "format(\"Hello\",\"#^15\")"
   ]
  },
  {
   "cell_type": "code",
   "execution_count": null,
   "id": "784777bc",
   "metadata": {},
   "outputs": [],
   "source": []
  },
  {
   "cell_type": "markdown",
   "id": "f218c8de",
   "metadata": {},
   "source": [
    "Q5. We can use ord() to print ASCII value of single character and chr() to convert given ASCII value to character. \n",
    "a. find ASCII of characters'a' , 'A' , 'z' , 'Z' using ord() one by one\n",
    "b. find ASCII of characters '0', '9', ' ', \"\\n\" , \"\\t\" using ord() one by one\n",
    "c. Find characters for ASCII values 35, 67, 50, 99\n",
    "d. Where ASCII value begin for lower case characters where it ends? also find same for digits and upper case characters"
   ]
  },
  {
   "cell_type": "code",
   "execution_count": 33,
   "id": "2a86fdc6",
   "metadata": {},
   "outputs": [
    {
     "name": "stdout",
     "output_type": "stream",
     "text": [
      "97 65 122 90\n"
     ]
    }
   ],
   "source": [
    "ascii1=ord('a')\n",
    "ascii2=ord('A')\n",
    "ascii3=ord('z')\n",
    "ascii4=ord('Z')\n",
    "\n",
    "print(ascii1,ascii2,ascii3,ascii4)\n"
   ]
  },
  {
   "cell_type": "code",
   "execution_count": 34,
   "id": "94bd0604",
   "metadata": {},
   "outputs": [
    {
     "name": "stdout",
     "output_type": "stream",
     "text": [
      "48 57 32 10 9\n"
     ]
    }
   ],
   "source": [
    "ascii1=ord('0')\n",
    "ascii2=ord('9')\n",
    "ascii3=ord(' ')\n",
    "ascii4=ord('\\n')\n",
    "ascii5=ord('\\t')\n",
    "\n",
    "print(ascii1,ascii2,ascii3,ascii4,ascii5)\n"
   ]
  },
  {
   "cell_type": "code",
   "execution_count": 37,
   "id": "13d89562",
   "metadata": {},
   "outputs": [
    {
     "name": "stdout",
     "output_type": "stream",
     "text": [
      "#\n",
      "C\n",
      "2\n",
      "c\n"
     ]
    }
   ],
   "source": [
    "chracter1 = chr(35)\n",
    "chracter2 = chr(67)\n",
    "chracter3 = chr(50)\n",
    "chracter4 = chr(99)\n",
    "\n",
    "print(chracter1)\n",
    "print(chracter2)\n",
    "print(chracter3)\n",
    "print(chracter4)"
   ]
  },
  {
   "cell_type": "code",
   "execution_count": 41,
   "id": "b2c5fd54",
   "metadata": {},
   "outputs": [
    {
     "name": "stdout",
     "output_type": "stream",
     "text": [
      "97 65 122 90 49\n"
     ]
    }
   ],
   "source": [
    "a=ord('a')\n",
    "z=ord('z')\n",
    "A=ord('A')\n",
    "Z=ord('Z')\n",
    "one=ord('1')\n",
    "\n",
    "print(a,A,z,Z,one)"
   ]
  },
  {
   "cell_type": "markdown",
   "id": "9d4b4a14",
   "metadata": {},
   "source": [
    "Q6. Find how special chracters work inside print function \n",
    "a. print(\"abc\",\"\\n\",\"bcd\")\n",
    "b. print(\"abc\\nbcd\")\n",
    "c. print(1,'\\n',2)\n",
    "d. print(\"hello \\n\\n!!\")\n",
    "e. print(\"This is '\\t' means tab\")\n",
    "f. How many spaces are printed using \\t? Ans 4 spaces\n",
    "g. print(\"This\",\"is\",\"different\",sep='\\t') \n",
    "h. print(\"This\",\"is\",\"different\",sep='#')\n",
    "i. print(\"This\",\"is\",\"different\",sep='\\n') \n",
    "j. print(\"This\",\"is\",\"different\",end='\\n')"
   ]
  },
  {
   "cell_type": "code",
   "execution_count": 44,
   "id": "9b69f9d1",
   "metadata": {},
   "outputs": [
    {
     "name": "stdout",
     "output_type": "stream",
     "text": [
      "abc \n",
      " bcd\n"
     ]
    }
   ],
   "source": [
    "print(\"abc\",\"\\n\",\"bcd\") # seperator is bydefault is space"
   ]
  },
  {
   "cell_type": "code",
   "execution_count": 45,
   "id": "a58f66ca",
   "metadata": {},
   "outputs": [
    {
     "name": "stdout",
     "output_type": "stream",
     "text": [
      "abc\n",
      "bcd\n"
     ]
    }
   ],
   "source": [
    "print(\"abc\\nbcd\")"
   ]
  },
  {
   "cell_type": "code",
   "execution_count": 46,
   "id": "31fa898b",
   "metadata": {},
   "outputs": [
    {
     "name": "stdout",
     "output_type": "stream",
     "text": [
      "1 \n",
      " 2\n"
     ]
    }
   ],
   "source": [
    " print(1,'\\n',2)"
   ]
  },
  {
   "cell_type": "code",
   "execution_count": 47,
   "id": "7f6944aa",
   "metadata": {},
   "outputs": [
    {
     "name": "stdout",
     "output_type": "stream",
     "text": [
      "hello \n",
      "\n",
      "!!\n"
     ]
    }
   ],
   "source": [
    "print(\"hello \\n\\n!!\")"
   ]
  },
  {
   "cell_type": "code",
   "execution_count": 48,
   "id": "f2f7e909",
   "metadata": {},
   "outputs": [
    {
     "name": "stdout",
     "output_type": "stream",
     "text": [
      "This is '\t' means tab\n"
     ]
    }
   ],
   "source": [
    "print(\"This is '\\t' means tab\")"
   ]
  },
  {
   "cell_type": "code",
   "execution_count": 52,
   "id": "b5cac1c5",
   "metadata": {},
   "outputs": [
    {
     "name": "stdout",
     "output_type": "stream",
     "text": [
      "This\tis\tdifferent\n",
      "This#is#different\n",
      "This\n",
      "is\n",
      "different\n",
      "This is different\n"
     ]
    }
   ],
   "source": [
    "print(\"This\",\"is\",\"different\",sep='\\t') \n",
    "print(\"This\",\"is\",\"different\",sep='#')\n",
    "print(\"This\",\"is\",\"different\",sep='\\n') \n",
    "print(\"This\",\"is\",\"different\",end='\\n')"
   ]
  },
  {
   "cell_type": "markdown",
   "id": "f63dab60",
   "metadata": {},
   "source": [
    "Q7. What is output of following statements and understand how operators work\n",
    "a. 10 / 2 - 5.0\n",
    "b. 10 // 2.0 - 5.0\n",
    "c. 101 / 3 - 33.666666666666664\n",
    "d. 101 // 3 - 33\n",
    "e. 101 % 3 - 2\n",
    "f. 2 ** 4 - 16\n",
    "g. 3 ** 2 - 9\n",
    "h. abs(-10) # give absolute value - 10\n",
    "i. divmod(101,3) # divmod gives two values , interger division and remainder - (33,2)\n",
    "j. 8 << 1 - 16\n",
    "k. 8 << 2 - 32\n",
    "l. 32 >> 2 - 8\n",
    "m. 16 >> 1 - 8"
   ]
  },
  {
   "cell_type": "code",
   "execution_count": 63,
   "id": "40c82a11",
   "metadata": {},
   "outputs": [
    {
     "data": {
      "text/plain": [
       "8"
      ]
     },
     "execution_count": 63,
     "metadata": {},
     "output_type": "execute_result"
    }
   ],
   "source": [
    "32>>2"
   ]
  },
  {
   "cell_type": "markdown",
   "id": "18a4e7e2",
   "metadata": {},
   "source": [
    "Q8. Write a program to take marks of 3 subjects from a student. Calculate total in variable name 'total'.\n",
    "(NOTE: Don't use sum as variable name, it is built in function in python)"
   ]
  },
  {
   "cell_type": "code",
   "execution_count": 69,
   "id": "29697701",
   "metadata": {},
   "outputs": [
    {
     "name": "stdout",
     "output_type": "stream",
     "text": [
      "Enter the marks of subject 1 10\n",
      "Enter the marks of subject 2 20\n",
      "Enter the marks of subject 3 30\n",
      "60\n"
     ]
    }
   ],
   "source": [
    "subject1 = int(input(\"Enter the marks of subject 1 \"))\n",
    "subject2 = int(input(\"Enter the marks of subject 2 \"))\n",
    "subject3 = int(input(\"Enter the marks of subject 3 \"))\n",
    "total = subject1 + subject2 + subject3\n",
    "print(total)"
   ]
  },
  {
   "cell_type": "markdown",
   "id": "5c740f9a",
   "metadata": {},
   "source": [
    "Q9. Manually calculate output of following expressions using precedence and associativity rules \n",
    "and then verify output using python shell\n",
    "a. 2 + 3 * (4 -1) -> 11\n",
    "b. 2 + ((3 *4) - 8) -> 6\n",
    "c. (2 + 3) * 4 -> 20 \n",
    "d. -10 + 25 / (16 + 12) -> -9.1\n",
    "e. 2 ** 2 ** 2 -> 16\n",
    "f. (3 ** 2) ** 3 -> 729\n",
    "g. x = y = 3 + 5 -> 8\n",
    "h. 8/2*(2+2) -> 16.0"
   ]
  },
  {
   "cell_type": "markdown",
   "id": "914ed000",
   "metadata": {},
   "source": [
    "Q10. Check output of following \n",
    "a. x = y = 10\n",
    "b. x1 = 20 = y1 # can not assign to literal\n"
   ]
  },
  {
   "cell_type": "markdown",
   "id": "97a88fd1",
   "metadata": {},
   "source": [
    "Q11. What is output of following\n",
    "a. x=10\n",
    "y=34.4\n",
    "print(x and y)\n",
    "print(x or y)"
   ]
  },
  {
   "cell_type": "code",
   "execution_count": 83,
   "id": "b3216557",
   "metadata": {},
   "outputs": [
    {
     "name": "stdout",
     "output_type": "stream",
     "text": [
      "34.4\n",
      "10\n"
     ]
    }
   ],
   "source": [
    "x=10\n",
    "y=34.4\n",
    "print(x and y)\n",
    "print(x or y)"
   ]
  },
  {
   "cell_type": "markdown",
   "id": "f44b3f4e",
   "metadata": {},
   "source": [
    "# If-Else Questions"
   ]
  },
  {
   "cell_type": "markdown",
   "id": "a3804f63",
   "metadata": {},
   "source": [
    "Q1. A student will not be allowed to sit in exam if his/her attendence is less than 75%.  \n",
    "Take following input from user Number of classes held Number of classes attended. And print percentage of class attended  \n",
    "Is student is allowed to sit in exam or not.  "
   ]
  },
  {
   "cell_type": "code",
   "execution_count": 86,
   "id": "63420d95",
   "metadata": {},
   "outputs": [
    {
     "name": "stdout",
     "output_type": "stream",
     "text": [
      "Enter the number of classes Held100\n",
      "Enter the number of classes attended75\n",
      "Student can give the exam\n"
     ]
    }
   ],
   "source": [
    "numberOfClassesHeld = int(input(\"Enter the number of classes Held\"))\n",
    "numberOfClassesAttended = int(input(\"Enter the number of classes attended\"))\n",
    "attendence = ( numberOfClassesAttended / numberOfClassesHeld ) * 100\n",
    "if attendence<75:\n",
    "    print(\"Student is not allowed to sit in exam\")\n",
    "else:\n",
    "    print(\"Student can give the exam\")"
   ]
  },
  {
   "cell_type": "markdown",
   "id": "6eed04dd",
   "metadata": {},
   "source": [
    "Q2. accept amount from user and find the minimum number notes required to get the amount amount =512  \n",
    "Notes: 2000,500,100,50,10,5,2,1  \n",
    "\n",
    "500-1 note  \n",
    "10  - 1 note  \n",
    "2-  1 coin  \n",
    "\n",
    "amount=20550  \n",
    "2000 – 10 note  \n",
    "500 – 1 note  \n",
    "50 -1 note  "
   ]
  },
  {
   "cell_type": "code",
   "execution_count": 48,
   "id": "3becfb1e",
   "metadata": {},
   "outputs": [
    {
     "name": "stdout",
     "output_type": "stream",
     "text": [
      "Enter the amount512\n",
      "500 notes required 1\n",
      "10 notes required 1\n",
      "1 notes required 2\n"
     ]
    }
   ],
   "source": [
    "amount = int(input(\"Enter the amount\"))\n",
    "\n",
    "if amount>2000:\n",
    "    num=amount//2000\n",
    "    amount=amount-num*2000\n",
    "    print(\"2000 notes required\",num)\n",
    "if amount>500:\n",
    "    num=amount//500\n",
    "    amount=amount-num*500\n",
    "    print(\"500 notes required\",num)\n",
    "if amount>100:\n",
    "    num=amount//100\n",
    "    amount=amount-num*100\n",
    "    print(\"100 notes required\",num)\n",
    "if amount>50:\n",
    "    num=amount//50\n",
    "    amount=amount-num*50\n",
    "    print(\"50 notes required\",num)\n",
    "if amount>10:\n",
    "    num=amount//10\n",
    "    amount=amount-num*10\n",
    "    print(\"10 notes required\",num)\n",
    "if amount>5:\n",
    "    num=amount//5\n",
    "    amount=amount-num*5\n",
    "    print(\"5 notes required\",num)\n",
    "if amount>2:\n",
    "    num=amount//2\n",
    "    amount=amount-num*2\n",
    "    print(\"2 notes required\",num)\n",
    "if amount>1:\n",
    "    num=amount//1\n",
    "    amount=amount-num*1\n",
    "    print(\"1 notes required\",num)\n"
   ]
  },
  {
   "cell_type": "markdown",
   "id": "baa70395",
   "metadata": {},
   "source": [
    "Q3.\tModify the above question Q1 to allow student to sit if he/she has medical cause. Ask user if he/she has medical cause or not ( 'Y' or 'N' ) and print accordingly.  "
   ]
  },
  {
   "cell_type": "code",
   "execution_count": 8,
   "id": "45036d13",
   "metadata": {},
   "outputs": [
    {
     "name": "stdout",
     "output_type": "stream",
     "text": [
      "Enter the number of classes Held100\n",
      "Enter the number of classes attended73\n",
      "Do you have medical cause 'Y' or 'N'Y\n",
      "Student can give the exam\n"
     ]
    }
   ],
   "source": [
    "numberOfClassesHeld = int(input(\"Enter the number of classes Held\"))\n",
    "numberOfClassesAttended = int(input(\"Enter the number of classes attended\"))\n",
    "attendence = ( numberOfClassesAttended / numberOfClassesHeld ) * 100\n",
    "if attendence<75:\n",
    "    medicalkCause = input(\"Do you have medical cause 'Y' or 'N'\")\n",
    "    if medicalkCause == 'Y':\n",
    "        print(\"Student can give the exam\")\n",
    "    else:\n",
    "        print(\"Student is not allowed to sit in exam\")\n",
    "else: \n",
    "    print(\"Student can give the exam\")"
   ]
  },
  {
   "cell_type": "code",
   "execution_count": null,
   "id": "7fdaf183",
   "metadata": {},
   "outputs": [],
   "source": []
  },
  {
   "cell_type": "markdown",
   "id": "53a3c038",
   "metadata": {},
   "source": [
    "Q4.\tA school has following rules for grading system:  \n",
    "a.\tBelow 25 - F  \n",
    "b.\t25 to 45 - E  \n",
    "c.\t45 to 50 - D  \n",
    "d.\t50 to 60 - C  \n",
    "e.\t60 to 80 - B  \n",
    "f.\tAbove 80 - A  \n",
    "Ask user to enter marks and print the corresponding grade. "
   ]
  },
  {
   "cell_type": "code",
   "execution_count": 11,
   "id": "b63ccd29",
   "metadata": {},
   "outputs": [
    {
     "name": "stdout",
     "output_type": "stream",
     "text": [
      "Enter the marks1\n",
      "Grade F\n"
     ]
    }
   ],
   "source": [
    "marks = int(input(\"Enter the marks\"))\n",
    "if marks>80:\n",
    "    print(\"Grade A\")\n",
    "elif 80>=marks>60:\n",
    "    print(\"Grade B\")\n",
    "elif 60>=marks>50:\n",
    "    print(\"Grade C\")\n",
    "elif 50>=marks>45:\n",
    "    print(\"Grade D\")\n",
    "elif 45>=marks>=25:\n",
    "    print(\"Grade E\")\n",
    "else:\n",
    "    print(\"Grade F\")\n"
   ]
  },
  {
   "cell_type": "markdown",
   "id": "6618889c",
   "metadata": {},
   "source": [
    "Q5.\t  If  x = 2 y = 5 z = 0  then find values of the following expressions and Print the output of following statements  \n",
    "a.\tx == 2  \n",
    "b.\tx != 5  \n",
    "c.\tx != 5 & y >= 5  \n",
    "d.\tz != 0 | x == 2  \n",
    "e.\tnot(y < 10)  "
   ]
  },
  {
   "cell_type": "code",
   "execution_count": 21,
   "id": "c71f1a90",
   "metadata": {},
   "outputs": [
    {
     "name": "stdout",
     "output_type": "stream",
     "text": [
      "True\n",
      "True\n",
      "True\n",
      "True\n",
      "False\n"
     ]
    }
   ],
   "source": [
    "x=2\n",
    "y=5\n",
    "z=0\n",
    "print(x==2)\n",
    "print(x!=5)\n",
    "print(x!=5 & y>=5)\n",
    "print(z!=0 | x==2)\n",
    "print(not(y<10))"
   ]
  },
  {
   "cell_type": "code",
   "execution_count": null,
   "id": "cdf22557",
   "metadata": {},
   "outputs": [],
   "source": []
  },
  {
   "cell_type": "markdown",
   "id": "1fa87082",
   "metadata": {},
   "source": [
    "Q6.\tAccept number from user and check whether it is divisible by 5 and 11 if divisible then display appropriate message.  "
   ]
  },
  {
   "cell_type": "code",
   "execution_count": 25,
   "id": "54d023d6",
   "metadata": {},
   "outputs": [
    {
     "name": "stdout",
     "output_type": "stream",
     "text": [
      "Enter the number 55\n",
      "55 is divisible by 5 and 11\n"
     ]
    }
   ],
   "source": [
    "number = int(input(\"Enter the number \"))\n",
    "if number%5==0 & number%11== 0:\n",
    "    print(number,\"is divisible by 5 and 11\")\n",
    "else:\n",
    "    print(number,\"is not divisible by 5 and 11\")"
   ]
  },
  {
   "cell_type": "markdown",
   "id": "dd2b5b1a",
   "metadata": {},
   "source": [
    "Q7.\tWrite a program to calculate the electricity bill (accept number of unit from user) according to the following criteria :  \n",
    "             Unit                                    Price    \n",
    "First 100 units                                       no charge  \n",
    "Next 100 units                                        Rs 5 per unit  \n",
    "After 200 units                                       Rs 10 per unit  \n",
    "(For example if input unit is 350 than total bill amount is Rs2000)\n"
   ]
  },
  {
   "cell_type": "code",
   "execution_count": 81,
   "id": "5f042b74",
   "metadata": {},
   "outputs": [
    {
     "name": "stdout",
     "output_type": "stream",
     "text": [
      "Enter the electricity bill 340\n",
      "1900\n"
     ]
    }
   ],
   "source": [
    "electricBillUnit = int(input(\"Enter the electricity bill \"))\n",
    "charges=0\n",
    "if electricBillUnit<=100:\n",
    "    charges=0\n",
    "if electricBillUnit<=200:\n",
    "    charges = 5*(electricBillUnit-100)\n",
    "if electricBillUnit>200:\n",
    "    charges = (5*100) + 10*(electricBillUnit-200)\n",
    "\n",
    "print(charges)\n"
   ]
  },
  {
   "cell_type": "code",
   "execution_count": null,
   "id": "c58e590f",
   "metadata": {},
   "outputs": [],
   "source": []
  },
  {
   "cell_type": "code",
   "execution_count": null,
   "id": "ebaba85d",
   "metadata": {},
   "outputs": [],
   "source": []
  },
  {
   "cell_type": "markdown",
   "id": "c6bda07c",
   "metadata": {},
   "source": [
    "Q8.\tWrite a program to check whether the last digit of a number( entered by user ) is divisible by 3 or not.  \n"
   ]
  },
  {
   "cell_type": "code",
   "execution_count": 59,
   "id": "1dbfa41c",
   "metadata": {},
   "outputs": [
    {
     "name": "stdout",
     "output_type": "stream",
     "text": [
      "Enter the number 123\n",
      "3  last digit of  123  is divisible by 3\n"
     ]
    }
   ],
   "source": [
    "number = int(input(\"Enter the number \"))\n",
    "if number%10 % 3 == 0:\n",
    "    print(number%10,\" last digit of \",number,\" is divisible by 3\")\n",
    "else:\n",
    "    print(number%10,\" last digit of \",number,\" not divisible by 3\")"
   ]
  },
  {
   "cell_type": "markdown",
   "id": "184be650",
   "metadata": {},
   "source": [
    "Q9.\tWrite a program to check whether an years is leap year or not the year is leap if it satisfies following condition  \n",
    "•\tIt the year is divisible by 100 o If it is divisible by 100, then it should also be divisible by 400 then it is leap year  \n",
    "•\totherwise, all other years divisible by 4 and not divisible by 100 then it is leap year."
   ]
  },
  {
   "cell_type": "code",
   "execution_count": 80,
   "id": "ec1d04f0",
   "metadata": {},
   "outputs": [
    {
     "name": "stdout",
     "output_type": "stream",
     "text": [
      "Enter the year 2023\n",
      "2023 is not yeap year\n"
     ]
    }
   ],
   "source": [
    "year = int(input(\"Enter the year \"))\n",
    "if (year%100 == 0 and year%400 == 0) or (year%4==0 and year%100 !=0):\n",
    "    print(year ,\" is a leap year\")\n",
    "else:\n",
    "    print(year, \"is not yeap year\")\n",
    "    "
   ]
  },
  {
   "cell_type": "markdown",
   "id": "7e3a47af",
   "metadata": {},
   "source": [
    "Q10. Write a program to accept the price of a bike and display the road tax and insurance to be paid according to the following criteria . also display total amount to be paid.  \n",
    "      \n",
    "        Cost price (in Rs)           Tax                Inssurance  \n",
    "        > 100000                     15 %                   20%  \n",
    "        > 50000 and <= 100000        10%                    8%  \n",
    "        <= 50000                     5%                     5%   \n"
   ]
  },
  {
   "cell_type": "code",
   "execution_count": 87,
   "id": "060f9e5f",
   "metadata": {},
   "outputs": [
    {
     "name": "stdout",
     "output_type": "stream",
     "text": [
      "Enter the price50010\n",
      "9001.8\n"
     ]
    }
   ],
   "source": [
    "price = int(input(\"Enter the price\"))\n",
    "amount=0\n",
    "if price > 100000:\n",
    "    amount = (15/100)*price + (20/100)*price\n",
    "elif 100000>=price>50000:\n",
    "    amount = (10/100)*price + (8/100)*price\n",
    "else:\n",
    "    amount = (5/100)*price + (5/100)*price\n",
    "print(amount)\n",
    "    "
   ]
  },
  {
   "cell_type": "markdown",
   "id": "df387c16",
   "metadata": {},
   "source": [
    "# Loop Questions"
   ]
  },
  {
   "cell_type": "markdown",
   "id": "8c5775c1",
   "metadata": {},
   "source": [
    "Q1.\tAccept 10 integers from user  and print their average value on the screen \n"
   ]
  },
  {
   "cell_type": "code",
   "execution_count": 3,
   "id": "35157b0c",
   "metadata": {},
   "outputs": [
    {
     "name": "stdout",
     "output_type": "stream",
     "text": [
      "Enter the 10 integer for calculation of average\n",
      "Enter the number3\n",
      "Enter the number3\n",
      "Enter the number3\n",
      "Enter the number3\n",
      "Enter the number3\n",
      "Enter the number3\n",
      "Enter the number3\n",
      "Enter the number3\n",
      "Enter the number3\n",
      "Enter the number3\n",
      "3.0\n"
     ]
    }
   ],
   "source": [
    "print(\"Enter the 10 integer for calculation of average\")\n",
    "total=0\n",
    "for i in range(10):\n",
    "    num = int(input(\"Enter the number\"))\n",
    "    total = num + total\n",
    "print(total/10)"
   ]
  },
  {
   "cell_type": "markdown",
   "id": "b12b3244",
   "metadata": {},
   "source": [
    "Q2.\tPrint the following patterns using loop : \n",
    "a. \n",
    "* \n",
    "** \n",
    "***\n",
    "****\n",
    "b. \n",
    "    *                    \n",
    "  ***                \n",
    "***** \n",
    "  ***\n",
    "    * \n",
    "c. \n",
    "1010101          \n",
    " 10101  \n",
    "  101   \n",
    "   1    \n",
    "\n",
    "d.\n",
    "1  \n",
    "1 2  \n",
    "1 2 3  \n",
    "1 2 3 4  \n",
    "1 2 3 4 5 \n",
    " "
   ]
  },
  {
   "cell_type": "code",
   "execution_count": 102,
   "id": "58924b68",
   "metadata": {},
   "outputs": [
    {
     "name": "stdout",
     "output_type": "stream",
     "text": [
      "Enter the number4\n",
      "*\n",
      "\n",
      "**\n",
      "\n",
      "***\n",
      "\n",
      "****\n",
      "\n"
     ]
    }
   ],
   "source": [
    "number = int(input(\"Enter the number\"))\n",
    "for i in range(number):\n",
    "    for j in range(i+1):\n",
    "        print(\"*\",end=\"\")\n",
    "    print(\"\\n\")"
   ]
  },
  {
   "cell_type": "code",
   "execution_count": 21,
   "id": "edd9e8f2",
   "metadata": {},
   "outputs": [
    {
     "name": "stdout",
     "output_type": "stream",
     "text": [
      "Enter the number5\n",
      "101010101\n",
      " 1010101\n",
      "  10101\n",
      "   101\n",
      "    1\n",
      "\n"
     ]
    }
   ],
   "source": [
    "n = int(input(\"Enter the number\"))\n",
    "for i in range(0,n,1):\n",
    "    print(\" \"*i,\"10\"*(n-i-1),'1'*1,sep=\"\")\n",
    "print(\"\",end=\"\\n\")\n",
    "    "
   ]
  },
  {
   "cell_type": "code",
   "execution_count": 37,
   "id": "332788ad",
   "metadata": {},
   "outputs": [
    {
     "name": "stdout",
     "output_type": "stream",
     "text": [
      "Enter the number5\n",
      "     *\n",
      "   ***\n",
      " *****\n",
      "   ***\n",
      "     *\n"
     ]
    }
   ],
   "source": [
    "n = int(input(\"Enter the number\"))\n",
    "for i in range(1,n,2):\n",
    "    print(\" \"*(n-i),\"*\"*(i))\n",
    "for i in range(0,n,2):\n",
    "    print(\" \"*(i),\"*\"*(n-i))"
   ]
  },
  {
   "cell_type": "code",
   "execution_count": 14,
   "id": "3a09b22c",
   "metadata": {},
   "outputs": [
    {
     "name": "stdout",
     "output_type": "stream",
     "text": [
      "Enter the number5\n",
      "1 \n",
      "1 2 \n",
      "1 2 3 \n",
      "1 2 3 4 \n",
      "1 2 3 4 5 \n"
     ]
    }
   ],
   "source": [
    "number = int(input(\"Enter the number\"))\n",
    "for i in range(number):\n",
    "    for j in range(1,i+2):\n",
    "        print(j,end=\" \")\n",
    "    print(\"\",end=\"\\n\")"
   ]
  },
  {
   "cell_type": "markdown",
   "id": "834b2401",
   "metadata": {},
   "source": [
    "Q3.\tWrite a program to find greatest common divisor (GCD) or highest common factor (HCF) of given two numbers. \n"
   ]
  },
  {
   "cell_type": "code",
   "execution_count": 41,
   "id": "1489e6e6",
   "metadata": {},
   "outputs": [
    {
     "name": "stdout",
     "output_type": "stream",
     "text": [
      "3\n"
     ]
    }
   ],
   "source": [
    "num1=3\n",
    "num2=15\n",
    "for i in range(max(num1,num2),0,-1):\n",
    "    if num1%i==0 and num2%i==0:\n",
    "        gcd=i\n",
    "        break\n",
    "print(gcd)\n",
    "        \n",
    "    \n",
    "    "
   ]
  },
  {
   "cell_type": "code",
   "execution_count": 42,
   "id": "d8793e01",
   "metadata": {},
   "outputs": [
    {
     "name": "stdout",
     "output_type": "stream",
     "text": [
      "2\n"
     ]
    }
   ],
   "source": [
    "num1=1\n",
    "num2=2\n",
    "max_num = max(num1,num2)\n",
    "if max_num%num1==0 and max_num%num2==0:\n",
    "    lcm=max_num\n",
    "for i in range(max_num,num1*num2+1):\n",
    "    if i%num1==0 and i%num2==0:\n",
    "        lcm=i\n",
    "        break\n",
    "print(lcm)"
   ]
  },
  {
   "cell_type": "markdown",
   "id": "af59fe60",
   "metadata": {},
   "source": [
    "Q4. Take integer inputs from user until he/she presses q ( Ask to press q to quit after every integer input ). Print average and product of all numbers. \n"
   ]
  },
  {
   "cell_type": "code",
   "execution_count": 88,
   "id": "20d7c541",
   "metadata": {},
   "outputs": [
    {
     "name": "stdout",
     "output_type": "stream",
     "text": [
      "total : 0\n",
      "Enter the input1\n",
      "due you want to quit press q q\n",
      "Average is :  1.0 Product is :  1\n"
     ]
    }
   ],
   "source": [
    "quit='n'\n",
    "average=0\n",
    "product=1\n",
    "count=0\n",
    "total=0\n",
    "while quit!='q' and quit!='Q':\n",
    "        number = int(input(\"Enter the input\"))\n",
    "        count = count+1\n",
    "        product = product * number\n",
    "        total = total + number\n",
    "        average = total/count\n",
    "        quit = input(\"due you want to quit press q \")\n",
    "print(\"Average is : \",average,\"Product is : \",product)\n",
    "    \n"
   ]
  },
  {
   "cell_type": "code",
   "execution_count": null,
   "id": "0446fc46",
   "metadata": {},
   "outputs": [],
   "source": []
  },
  {
   "cell_type": "markdown",
   "id": "1b84bf58",
   "metadata": {},
   "source": [
    "Q5.\tGiven a number count the total number of digits in a number and also find sum of digits of the number. \n"
   ]
  },
  {
   "cell_type": "code",
   "execution_count": 63,
   "id": "759d8c47",
   "metadata": {},
   "outputs": [
    {
     "name": "stdout",
     "output_type": "stream",
     "text": [
      "Enter the number12121\n",
      "5\n",
      "7\n"
     ]
    }
   ],
   "source": [
    "number = input(\"Enter the number\")\n",
    "count = len(number)\n",
    "print(count)\n",
    "total=0\n",
    "for i in number:\n",
    "    total = total + int(i)\n",
    "print(total)"
   ]
  },
  {
   "cell_type": "markdown",
   "id": "2ea08b96",
   "metadata": {},
   "source": [
    "Q6. To display the cube of the number upto given an integer. If the given integer is 5, then display cube of 1 to 4. \n"
   ]
  },
  {
   "cell_type": "code",
   "execution_count": 90,
   "id": "dd62b3e3",
   "metadata": {},
   "outputs": [
    {
     "name": "stdout",
     "output_type": "stream",
     "text": [
      "Enter the number upto which you want the cube5\n",
      "Cube of 1 is 1\n",
      "Cube of 2 is 8\n",
      "Cube of 3 is 27\n",
      "Cube of 4 is 64\n",
      "Cube of 5 is 125\n"
     ]
    }
   ],
   "source": [
    "number = int(input(\"Enter the number upto which you want the cube\"))\n",
    "for i in range(1,number+1):\n",
    "    print(\"Cube of\",i,\"is\",i**3)"
   ]
  },
  {
   "cell_type": "markdown",
   "id": "f534a4cf",
   "metadata": {},
   "source": [
    "Q7.\tAccept 20 numbers from user and display sum of only even numbers. \n"
   ]
  },
  {
   "cell_type": "code",
   "execution_count": 93,
   "id": "a61dbab2",
   "metadata": {},
   "outputs": [
    {
     "name": "stdout",
     "output_type": "stream",
     "text": [
      "Enter 20 numbers\n",
      "Enter the number1\n",
      "Enter the number2\n",
      "Enter the number3\n",
      "Enter the number1\n",
      "Enter the number1\n",
      "Enter the number1\n",
      "Enter the number1\n",
      "Enter the number1\n",
      "Enter the number12\n",
      "Enter the number1\n",
      "Enter the number1\n",
      "Enter the number2\n",
      "Enter the number1\n",
      "Enter the number2\n",
      "Enter the number1\n",
      "Enter the number2\n",
      "Enter the number1\n",
      "Enter the number2\n",
      "Enter the number1\n",
      "Enter the number2\n",
      "24\n"
     ]
    }
   ],
   "source": [
    "print(\"Enter 20 numbers\")\n",
    "evenTotal=0\n",
    "for i in range(20):\n",
    "    num=int(input(\"Enter the number\"))\n",
    "    if num%2==0:\n",
    "        evenTotal = evenTotal + num\n",
    "print(evenTotal)\n",
    "        "
   ]
  },
  {
   "cell_type": "markdown",
   "id": "2511be34",
   "metadata": {},
   "source": [
    "Q8.\tAsk user number of terms to be generated of a series. \n",
    "generate numbers for the following series and find its addition \n",
    "[9 + 99 + 999 + 9999+……..] \n"
   ]
  },
  {
   "cell_type": "code",
   "execution_count": 70,
   "id": "1cdc920e",
   "metadata": {},
   "outputs": [
    {
     "name": "stdout",
     "output_type": "stream",
     "text": [
      "Enter the term5\n",
      "111105\n"
     ]
    }
   ],
   "source": [
    "term = input(\"Enter the term\")\n",
    "sum=0\n",
    "for i in range(1,int(term)+1):\n",
    "    sum = sum + int('9'*i)\n",
    "print(sum)"
   ]
  },
  {
   "cell_type": "code",
   "execution_count": null,
   "id": "8f7c2d15",
   "metadata": {},
   "outputs": [],
   "source": []
  },
  {
   "cell_type": "markdown",
   "id": "62879976",
   "metadata": {},
   "source": [
    "Q9.\tWrite a program in python to display the sum of the series [ 1+x+x^2/2!+x^3/3!+....]. Go to the editor \n",
    "Test Data : \n",
    "Input the value of x :3 Input number of terms : 5 Expected Output : \n",
    "The sum is : 16.375000 "
   ]
  },
  {
   "cell_type": "code",
   "execution_count": 72,
   "id": "2f75814e",
   "metadata": {},
   "outputs": [
    {
     "name": "stdout",
     "output_type": "stream",
     "text": [
      "enter a number3\n",
      "enter number of term5\n",
      "16.375\n"
     ]
    }
   ],
   "source": [
    "import math\n",
    "x=int(input(\"enter a number\"))\n",
    "n=int(input(\"enter number of term\"))\n",
    "sum=0\n",
    "for i in range(n):\n",
    "    sum = sum + (x**i/math.factorial(i))\n",
    "print(sum)"
   ]
  },
  {
   "cell_type": "code",
   "execution_count": null,
   "id": "a3c4333c",
   "metadata": {},
   "outputs": [],
   "source": []
  },
  {
   "cell_type": "markdown",
   "id": "822107a0",
   "metadata": {},
   "source": [
    "Q10.Write a program in python to find the sum of the series [ x - x^3 + x^5 –x^7+x^9-x^11+ ......]. Go to the editor \n",
    "Test Data : \n",
    "Input the value of x :2 Input number of terms : 5 Expected Output : \n",
    "The values of the series: \n",
    "2 \n",
    "-8 \n",
    "32 \n",
    "-128 \n",
    "512 \n",
    "The sum = 410 "
   ]
  },
  {
   "cell_type": "code",
   "execution_count": null,
   "id": "58c8370e",
   "metadata": {},
   "outputs": [],
   "source": [
    "import math\n",
    "x=int(input(\"enter a number\"))\n",
    "n=int(input(\"enter number of term\"))\n",
    "sum=0\n",
    "a=0\n",
    "for i in range(1,n*2,2):\n",
    "    if a==0:\n",
    "        sum = sum + (x**i)\n",
    "        a=1\n",
    "    else:\n",
    "        sum = sum - (x**i)\n",
    "        a=0\n",
    "print(sum)\n",
    "\n",
    "\n"
   ]
  },
  {
   "cell_type": "markdown",
   "id": "d707714c",
   "metadata": {},
   "source": [
    "Q11.\tTake a number from user and check if it is prime or not\n"
   ]
  },
  {
   "cell_type": "code",
   "execution_count": 92,
   "id": "af886197",
   "metadata": {},
   "outputs": [
    {
     "name": "stdout",
     "output_type": "stream",
     "text": [
      "Enter the number17\n",
      "17 is prime\n"
     ]
    }
   ],
   "source": [
    "import math\n",
    "num = int(input(\"Enter the number\"))\n",
    "end = math.floor(math.sqrt(num))\n",
    "if num == 2:\n",
    "    print(num,\"is prime\")\n",
    "elif num%2==0:\n",
    "    print(num,\"is not prime\")\n",
    "else:\n",
    "    for i in range(2,end):\n",
    "        if num%i == 0:\n",
    "            print(num,\"is not prime\")\n",
    "            break\n",
    "    else:\n",
    "        print(num,\"is prime\")\n",
    "    \n"
   ]
  },
  {
   "cell_type": "markdown",
   "id": "97cfe3f7",
   "metadata": {},
   "source": [
    "Q12. Take a number from user and print sum of all odd numbers till that number.\n",
    "Ex. Enter a no : 10   \n",
    "Sum of all odd numbers till 10 : 3+5+7+9  =24"
   ]
  },
  {
   "cell_type": "code",
   "execution_count": 95,
   "id": "53562f0a",
   "metadata": {},
   "outputs": [
    {
     "name": "stdout",
     "output_type": "stream",
     "text": [
      "Enter the number34\n",
      "289\n"
     ]
    }
   ],
   "source": [
    "num = int(input(\"Enter the number\"))\n",
    "sum=0\n",
    "for i in range(1,num,2):\n",
    "    sum=sum+i\n",
    "print(sum)\n",
    "    \n",
    "    \n",
    "    "
   ]
  },
  {
   "cell_type": "markdown",
   "id": "99a6bdb8",
   "metadata": {},
   "source": [
    "# Advanced questions"
   ]
  },
  {
   "cell_type": "markdown",
   "id": "01e2b141",
   "metadata": {},
   "source": [
    "Q. Create a variable storing integer value. Print the identity of that variable. Then change value of that variable and again print the identity.\n",
    "Observe both values, what is your conclusion?"
   ]
  },
  {
   "cell_type": "code",
   "execution_count": 4,
   "id": "92172718",
   "metadata": {},
   "outputs": [
    {
     "name": "stdout",
     "output_type": "stream",
     "text": [
      "140713844642888\n",
      "140713844643208\n"
     ]
    }
   ],
   "source": [
    "var1 = 10\n",
    "print(id(var1))\n",
    "var1=20\n",
    "print(id(var1))\n",
    "#So as we are changing the value of the var1 so the reference of the var1 will also change as new \n",
    "#memory will be created for another value so reference will also change as integer is mutable"
   ]
  },
  {
   "cell_type": "markdown",
   "id": "4b750a32",
   "metadata": {},
   "source": [
    "Q. What is PEMDAS rule ? What is BODMAS ? Is there any difference in them ?"
   ]
  },
  {
   "cell_type": "code",
   "execution_count": null,
   "id": "7e5753cb",
   "metadata": {},
   "outputs": [],
   "source": [
    "#P- Parentheses, E- Exponents, M- Multiplication, D- Division, A- Addition, and S- Subtraction.\n",
    "#Bracket, Of, Division, Multiplication, Addition, and Subtraction."
   ]
  },
  {
   "cell_type": "markdown",
   "id": "30364a0c",
   "metadata": {},
   "source": [
    "Q. What is PEMDAS vs PEDMAS ? is there any difference?"
   ]
  },
  {
   "cell_type": "code",
   "execution_count": null,
   "id": "170438d7",
   "metadata": {},
   "outputs": [],
   "source": [
    "#P- Parentheses, E- Exponents, M- Multiplication, D- Division, A- Addition, and S- Subtraction.\n",
    "#parentheses, exponents, division , multiplication , addition, subtraction"
   ]
  }
 ],
 "metadata": {
  "kernelspec": {
   "display_name": "Python 3 (ipykernel)",
   "language": "python",
   "name": "python3"
  },
  "language_info": {
   "codemirror_mode": {
    "name": "ipython",
    "version": 3
   },
   "file_extension": ".py",
   "mimetype": "text/x-python",
   "name": "python",
   "nbconvert_exporter": "python",
   "pygments_lexer": "ipython3",
   "version": "3.11.4"
  }
 },
 "nbformat": 4,
 "nbformat_minor": 5
}
