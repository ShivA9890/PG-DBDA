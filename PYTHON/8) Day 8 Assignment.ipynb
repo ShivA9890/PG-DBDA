{
 "cells": [
  {
   "cell_type": "code",
   "execution_count": null,
   "id": "4800fede",
   "metadata": {},
   "outputs": [],
   "source": []
  },
  {
   "cell_type": "markdown",
   "id": "f2232140",
   "metadata": {},
   "source": [
    "# Q1. Add a list of elements to a given set\n",
    "Given:\n",
    "sampleSet = {\"Yellow\", \"Orange\", \"Black\"}\n",
    "sampleList = [\"Blue\", \"Green\", \"Red\",”Yellow”,”orange”]"
   ]
  },
  {
   "cell_type": "code",
   "execution_count": 5,
   "id": "b1bff38e",
   "metadata": {},
   "outputs": [
    {
     "name": "stdout",
     "output_type": "stream",
     "text": [
      "{'Black', 'Orange', 'Red', 'Yellow', 'orange', 'Green', 'Blue'}\n"
     ]
    }
   ],
   "source": [
    "sampleSet = {\"Yellow\", \"Orange\", \"Black\"} \n",
    "sampleList = [\"Blue\", \"Green\", \"Red\",\"Yellow\",\"orange\"]\n",
    "# for x in sampleList:\n",
    "#     sampleSet.add(x)\n",
    "# print(sampleSet)\n",
    "\n",
    "sampleList= set(sampleList)\n",
    "sampleSet.update(sampleList)\n",
    "print(sampleSet)"
   ]
  },
  {
   "cell_type": "markdown",
   "id": "121f9230",
   "metadata": {},
   "source": [
    "# Q2. display common elements from the given set\n",
    "set1 = {10, 20, 30, 40, 50}\n",
    "set2 = {30, 40, 50, 60, 70}"
   ]
  },
  {
   "cell_type": "code",
   "execution_count": 6,
   "id": "bf65a9fd",
   "metadata": {},
   "outputs": [
    {
     "data": {
      "text/plain": [
       "{30, 40, 50}"
      ]
     },
     "execution_count": 6,
     "metadata": {},
     "output_type": "execute_result"
    }
   ],
   "source": [
    "set1 = {10, 20, 30, 40, 50} \n",
    "set2 = {30, 40, 50, 60, 70}\n",
    "set1 & set2"
   ]
  },
  {
   "cell_type": "markdown",
   "id": "7b091fad",
   "metadata": {},
   "source": [
    "# Q3. Generate a new set with all items from both sets by removing numbers which are in both sets.\n",
    "set1 = {10, 20, 30, 40, 50,25}\n",
    "set2 = {30, 40, 50, 60, 70,100}\n",
    "o/p : order is not important\n",
    "{70, 10, 20, 60,25,100}"
   ]
  },
  {
   "cell_type": "code",
   "execution_count": 9,
   "id": "38f4cc34",
   "metadata": {},
   "outputs": [
    {
     "name": "stdout",
     "output_type": "stream",
     "text": [
      "{100, 70, 10, 20, 25, 60}\n"
     ]
    }
   ],
   "source": [
    "set1 = {10, 20, 30, 40, 50,25} \n",
    "set2 = {30, 40, 50, 60, 70,100} \n",
    "\n",
    "newset = { x for x in ((set1 | set2) - (set1 & set2))  }\n",
    "# o/p : order is not important {70, 10, 20, 60,25,100}\n",
    "print(newset)"
   ]
  },
  {
   "cell_type": "markdown",
   "id": "55f8a193",
   "metadata": {},
   "source": [
    "# Q4. set of all elements in either A or B, but not both\n",
    "set1 = {10, 20, 30, 40, 50}\n",
    "set2 = {30, 40, 50, 60, 70}\n",
    "Expected output:\n",
    "{20, 70, 10, 60}"
   ]
  },
  {
   "cell_type": "code",
   "execution_count": 11,
   "id": "55b0ffdb",
   "metadata": {},
   "outputs": [
    {
     "data": {
      "text/plain": [
       "{10, 20, 60, 70}"
      ]
     },
     "execution_count": 11,
     "metadata": {},
     "output_type": "execute_result"
    }
   ],
   "source": [
    "as1 = {10, 20, 30, 40, 50}\n",
    "as2 = {30, 40, 50, 60, 70}\n",
    "\n",
    "(as1 | as2) - (as1 & as2)"
   ]
  },
  {
   "cell_type": "markdown",
   "id": "ab287321",
   "metadata": {},
   "source": [
    "# Q5. Update set1 by adding items from set2, except common items\n",
    "set1 = {10, 20, 30, 40, 50}\n",
    "set2 = {30, 40, 50, 60, 70}\n",
    "Expected output:\n",
    "{70, 10, 20, 60}"
   ]
  },
  {
   "cell_type": "code",
   "execution_count": 33,
   "id": "d8a5d50f",
   "metadata": {},
   "outputs": [
    {
     "name": "stdout",
     "output_type": "stream",
     "text": [
      "{20, 70, 10, 60}\n"
     ]
    }
   ],
   "source": [
    "as1 = {10, 20, 30, 40, 50} \n",
    "as2 = {30, 40, 50, 60, 70}\n",
    "# (as1 | as2) - (as1 & as2)\n",
    "# as1.add(tuple( x for x in ((as1 | as2) - (as1 & as2))))\n",
    "as1 ^= as2\n",
    "print(as1)"
   ]
  },
  {
   "cell_type": "markdown",
   "id": "53f398b3",
   "metadata": {},
   "source": [
    "# Q6.  Take a sentence as input from user. Every word is seperated by space. Print all unique words from the sentence."
   ]
  },
  {
   "cell_type": "code",
   "execution_count": 39,
   "id": "cf274b52",
   "metadata": {},
   "outputs": [
    {
     "name": "stdout",
     "output_type": "stream",
     "text": [
      "['I', 'am', 'aditya', 'I', 'am', 'a', 'student', 'and', 'a', 'Coder']\n",
      "{'I', 'a', 'student', 'Coder', 'aditya', 'am', 'and'}\n"
     ]
    }
   ],
   "source": [
    "s=\"I am aditya I am a student and a Coder\"\n",
    "newlist=s.split(\" \")\n",
    "set1={ x for x in newlist}\n",
    "print(newlist)\n",
    "print(set1)\n"
   ]
  },
  {
   "cell_type": "markdown",
   "id": "891af2e0",
   "metadata": {},
   "source": [
    "# Tuple Assignments"
   ]
  },
  {
   "cell_type": "markdown",
   "id": "42d4b46e",
   "metadata": {},
   "source": [
    "# Q1. Reverse the following tuple\n",
    "aTuple = (10, 20, 30, 40, 50,60)\n",
    "Expected output:\n",
    "(60,50, 40, 30, 20, 10)"
   ]
  },
  {
   "cell_type": "code",
   "execution_count": 42,
   "id": "be84980f",
   "metadata": {},
   "outputs": [
    {
     "data": {
      "text/plain": [
       "(60, 50, 40, 30, 20, 10)"
      ]
     },
     "execution_count": 42,
     "metadata": {},
     "output_type": "execute_result"
    }
   ],
   "source": [
    "as1 = (10, 20, 30, 40, 50,60)\n",
    "as1[::-1]"
   ]
  },
  {
   "cell_type": "markdown",
   "id": "7c91eb1c",
   "metadata": {},
   "source": [
    "# Q2. display value 20 from the following tuple\n",
    "aTuple = (\"Orange\", [10, 20, 30], (5, 15, 25))\n"
   ]
  },
  {
   "cell_type": "code",
   "execution_count": 44,
   "id": "bd86fb7a",
   "metadata": {},
   "outputs": [
    {
     "data": {
      "text/plain": [
       "20"
      ]
     },
     "execution_count": 44,
     "metadata": {},
     "output_type": "execute_result"
    }
   ],
   "source": [
    "as1 = (\"Orange\", [10, 20, 30], (5, 15, 25))\n",
    "as1[1][1]"
   ]
  },
  {
   "cell_type": "markdown",
   "id": "71ad9fa6",
   "metadata": {},
   "source": [
    "# Q3.Unpack the following tuple into 4 variables\n",
    "aTuple = (10, 20, 30, 40)"
   ]
  },
  {
   "cell_type": "code",
   "execution_count": 48,
   "id": "19d863ec",
   "metadata": {},
   "outputs": [
    {
     "name": "stdout",
     "output_type": "stream",
     "text": [
      "10 20 30 40 <class 'int'>\n"
     ]
    }
   ],
   "source": [
    "as1 = (10, 20, 30, 40)\n",
    "a,b,c,d= as1\n",
    "a,b,c,d\n",
    "print(a,b,c,d, type(a))"
   ]
  },
  {
   "cell_type": "markdown",
   "id": "f66a425e",
   "metadata": {},
   "source": [
    "# Q4. Swap the following two tuples\n",
    "tuple1 = (11, 22)\n",
    "tuple2 = (99, 88)\n",
    "Expected output:\n",
    "tuple1 = (99, 88)\n",
    "tuple2 = (11, 22)"
   ]
  },
  {
   "cell_type": "code",
   "execution_count": 50,
   "id": "1756e453",
   "metadata": {},
   "outputs": [
    {
     "name": "stdout",
     "output_type": "stream",
     "text": [
      "(99, 88)\n",
      "(11, 22)\n"
     ]
    }
   ],
   "source": [
    "as1= (11,22)\n",
    "as2=(99,88)\n",
    "as1,as2= as2,as1\n",
    "print(as1)\n",
    "print(as2)"
   ]
  },
  {
   "cell_type": "markdown",
   "id": "300ed113",
   "metadata": {},
   "source": [
    "# Q5. Copy element 44 and 55 from the following tuple into a new tuple\n",
    "tuple1 = (11, 22, 33, 44, 55, 66)\n",
    "Expected output:\n",
    "tuple2: (44, 55)"
   ]
  },
  {
   "cell_type": "code",
   "execution_count": 121,
   "id": "65d3117e",
   "metadata": {},
   "outputs": [
    {
     "name": "stdout",
     "output_type": "stream",
     "text": [
      "(44, 55)\n",
      "(44, 55)\n"
     ]
    }
   ],
   "source": [
    "as1= (11, 22, 33, 44, 55, 66)\n",
    "# as2= set(as1)\n",
    "list1 =[ x for x in as1 if (x==44) or (x==55)]\n",
    "as2= tuple(list1)\n",
    "\n",
    "as3 =tuple( x for x in as1 if (x==44) or (x==55))\n",
    "print(as2)\n",
    "print(as3)"
   ]
  },
  {
   "cell_type": "markdown",
   "id": "0947702b",
   "metadata": {},
   "source": [
    "# Q6. Modify the first item (22) of a list inside a following tuple to 200\n",
    "tuple1 = (11, [22, 33], 44, 55)\n",
    "Expected output:\n",
    "tuple1: (11, [200, 33], 44, 55)"
   ]
  },
  {
   "cell_type": "code",
   "execution_count": 52,
   "id": "6dd0efdb",
   "metadata": {},
   "outputs": [
    {
     "name": "stdout",
     "output_type": "stream",
     "text": [
      "(11, [200, 33], 44, 55)\n"
     ]
    }
   ],
   "source": [
    "as1 = (11, [22, 33], 44, 55)\n",
    "as1[1][0]=200\n",
    "as1[1][1]=33\n",
    "print(as1)"
   ]
  },
  {
   "cell_type": "markdown",
   "id": "83e55d1d",
   "metadata": {},
   "source": [
    "# Q7. Take two integer values in a & b. Swap their values using tuple, using temparary variable and without tuple and without temparary variable.\n",
    "Ex. a=10 b=23\n",
    "After swapping a=23 b=10"
   ]
  },
  {
   "cell_type": "code",
   "execution_count": 55,
   "id": "b9a4f705",
   "metadata": {},
   "outputs": [],
   "source": [
    "a=10 \n",
    "b=23\n",
    "# a,b = b,a\n",
    "\n",
    "# c=a\n",
    "# a=b\n",
    "# b=c"
   ]
  },
  {
   "cell_type": "markdown",
   "id": "0b3d7226",
   "metadata": {},
   "source": [
    "# Dictionary Assignments"
   ]
  },
  {
   "cell_type": "markdown",
   "id": "6c20a461",
   "metadata": {},
   "source": [
    "# Q1."
   ]
  },
  {
   "cell_type": "code",
   "execution_count": 68,
   "id": "949be632",
   "metadata": {},
   "outputs": [
    {
     "name": "stdout",
     "output_type": "stream",
     "text": [
      "Caesar cipher? I much prefer Caesar salad!\n"
     ]
    }
   ],
   "source": [
    "as1 = {'a':'n', 'b':'o', 'c':'p', 'd':'q', 'e':'r', 'f':'s', 'g':'t', 'h':'u', 'i':'v', 'j':'w', \n",
    "       'k':'x', 'l':'y', 'm':'z', 'n':'a', 'o':'b', 'p':'c','q':'d', 'r':'e', 's':'f', 't':'g', \n",
    "       'u':'h', 'v':'i', 'w':'j', 'x':'k', 'y':'l', 'z':'m', 'A':'N', 'B':'O', 'C':'P', 'D':'Q', \n",
    "       'E':'R', 'F':'S', 'G':'T', 'H':'U', 'I':'V', 'J':'W', 'K':'X', 'L':'Y', 'M':'Z', 'N':'A', \n",
    "       'O':'B', 'P':'C', 'Q':'D', 'R':'E', 'S':'F', 'T':'G', 'U':'H', 'V':'I', 'W':'J', 'X':'K', 'Y':'L', 'Z':'M', ' ':' '}\n",
    "sen = \"Pnrfne pvcure? V zhpu cersre Pnrfne fnynq!\"\n",
    "list1 = [ as1[x] if (x in as1) else x for x in sen ]\n",
    "s=\"\".join(list1)\n",
    "print(s)\n",
    "\n",
    "# as1.get(x) ==> this will return None is not present key"
   ]
  },
  {
   "cell_type": "markdown",
   "id": "3d39d0d6",
   "metadata": {},
   "source": [
    "# Q2. Given a dictionary of students and their favourite colours:\n",
    "people={'Arham':'Blue','Lisa':'Yellow',''Vinod:'Purple','Jenny':'Pink'}\n",
    "a. Find out how many students are in the list \\n\n",
    "b. Change Lisa’s favourite colour\n",
    "c. Remove 'Jenny' and her favourite colour"
   ]
  },
  {
   "cell_type": "code",
   "execution_count": 78,
   "id": "af658956",
   "metadata": {},
   "outputs": [
    {
     "name": "stdout",
     "output_type": "stream",
     "text": [
      "4\n"
     ]
    }
   ],
   "source": [
    "people={'Arham':'Blue','Lisa':'Yellow','Vinod':'Purple','Jenny':'Pink'}\n",
    "print(len(people.items()))"
   ]
  },
  {
   "cell_type": "code",
   "execution_count": 76,
   "id": "ccd5ecad",
   "metadata": {},
   "outputs": [
    {
     "name": "stdout",
     "output_type": "stream",
     "text": [
      "{'Arham': 'Blue', 'Lisa': 'Pink', 'Vinod': 'Purple', 'Jenny': 'Pink'}\n"
     ]
    }
   ],
   "source": [
    "people['Lisa']='Pink'\n",
    "print(people)"
   ]
  },
  {
   "cell_type": "code",
   "execution_count": 77,
   "id": "5ff92f71",
   "metadata": {},
   "outputs": [
    {
     "name": "stdout",
     "output_type": "stream",
     "text": [
      "{'Arham': 'Blue', 'Lisa': 'Pink', 'Vinod': 'Purple'}\n"
     ]
    }
   ],
   "source": [
    "people.pop('Jenny')\n",
    "print(people)"
   ]
  },
  {
   "cell_type": "code",
   "execution_count": 106,
   "id": "ddaaeaaa",
   "metadata": {},
   "outputs": [
    {
     "name": "stdout",
     "output_type": "stream",
     "text": [
      "['Arham', 'Jenny', 'Lisa', 'Vinod']\n",
      "{'Arham': 'Blue', 'Lisa': 'Yellow', 'Vinod': 'Purple', 'Jenny': 'Pink'}\n"
     ]
    }
   ],
   "source": [
    "print(sorted(people))\n",
    "print(people)"
   ]
  },
  {
   "cell_type": "markdown",
   "id": "869f0c92",
   "metadata": {},
   "source": [
    "# Q3\n",
    "\n",
    "3. Write a menu driven program to practice Dictionary functions.\n",
    "Write a program to accept name of a person and their vehicle and store it in a dictionary.\n",
    "Ask user if they want to continue to accept multiple values.\n",
    "Display following menu:\n",
    "a. Add new person name and a vehicle name.\n",
    "b. Delete a person name and vehicle name from the dictionary.\n",
    "----Accept person name from user.\n",
    "----Check whether person name exists in the dictionary.\n",
    "----If exists show person name and vehicle name to the user.\n",
    "----Confirm for deletion, if user enters y\n",
    "then delete otherwise no. Display appropriate message.\n",
    "c. Modify vehicle name for the person\n",
    "----Accept a person name from user.\n",
    "----Check whether the person’s name exists.\n",
    "----If the name exists, show the person’s name and vehicle name to user.\n",
    "Ask for new value and then overwrite the old value.\n",
    "d. Search vehicle for the given person’s name.\n",
    "e. Search list of people, who have given a vehicle\n",
    "f. Display all person names.\n",
    "g. Display all"
   ]
  },
  {
   "cell_type": "code",
   "execution_count": 19,
   "id": "35e8164a",
   "metadata": {},
   "outputs": [
    {
     "name": "stdout",
     "output_type": "stream",
     "text": [
      " \n",
      "a). Add new person name and a vehicle name.\n",
      "    b). Delete a person name and vehicle name from the dictionary.\n",
      "    c). Modify vehicle name for the person\n",
      "    d). Search vehicle for the given person’s name.\n",
      "    e). Search list of people who has given a vehicle\n",
      "    f). Display all person names\n",
      "    g). Display all\n",
      "    q). Exit\n",
      "\n",
      "Enter Choice :q\n"
     ]
    }
   ],
   "source": [
    "dict1={'aditya':\"Punch\",'shivam':None}\n",
    "while True:\n",
    "    print(\" \")\n",
    "    print(\"\"\"a). Add new person name and a vehicle name.\n",
    "    b). Delete a person name and vehicle name from the dictionary.\n",
    "    c). Modify vehicle name for the person\n",
    "    d). Search vehicle for the given person’s name.\n",
    "    e). Search list of people who has given a vehicle\n",
    "    f). Display all person names\n",
    "    g). Display all\n",
    "    q). Exit\"\"\")\n",
    "    print(\"\")\n",
    "    var1=input(\"Enter Choice :\")\n",
    "    match var1:\n",
    "        case \"a\":\n",
    "            name=input(\"Enter Name of owner : \")\n",
    "            vehcile=input(\"Enter vehcile name : \")\n",
    "            if vehcile == \"\":\n",
    "                vehcile=None\n",
    "            dict1[name]=vehcile\n",
    "        case \"b\":\n",
    "            name=input(\"Enter Name of owner : \")\n",
    "            if name in dict1:\n",
    "                val=input(\"Are you suru for [y/n] ? \")\n",
    "                if val==\"y\":\n",
    "                    dict1.pop(name)\n",
    "                else:\n",
    "                    print(\"No such user\")\n",
    "        case \"c\":\n",
    "            name=input(\"Enter Name of owner whose vehicle to modify : \")\n",
    "            vehcile=input(\"Enter vehicle name : \")\n",
    "            if name in dict1:\n",
    "                dict1[name]=vehcile\n",
    "            else:\n",
    "                print(\"No such user\")\n",
    "        case \"d\":\n",
    "            name=input(\"Enter Name of owner whose vehicle to modify : \")\n",
    "            if name in dict1:\n",
    "                print(dict1[name])\n",
    "            else:\n",
    "                print(\"No such user\")\n",
    "        case \"e\":\n",
    "            list1=list(dict1.keys())\n",
    "            for x in dict1.keys():\n",
    "                if dict1[x]==None:\n",
    "                    print(\"This owner not given vehicle name :\\n\",x)\n",
    "        case \"f\":\n",
    "            print(dict1.keys())\n",
    "        case \"g\":\n",
    "            list1=dict1.items()\n",
    "            print(list1)\n",
    "            \n",
    "        case \"q\":\n",
    "            break\n",
    "        case _:\n",
    "            print(\"Choose valid choice\")"
   ]
  },
  {
   "cell_type": "markdown",
   "id": "30a4dc08",
   "metadata": {},
   "source": [
    "# Q4. Write a program to display following menu and do the following:\n",
    "a. Add new city and trees commonly found in the city.\n",
    "b. Display all cities and the list of trees for all cities.\n",
    "c. Display list of trees of a particular city.\n",
    "---- Accept a city from user search city and if found display list of trees otherwise\n",
    "---- Display message not found\n",
    "d. Display cities which have the given tree.\n",
    "---- Accept a tree name from user and display all cities in which the tree is found.\n",
    "e. Delete city ---- Accept city from user and delete the city if found.\n",
    "---- Prompt user before deletion\n",
    "f. Modify tree list\n",
    "---- Accept city and trees to be added in the city. if city exist add trees at the end of the list\n",
    "---- Otherwise add city and list\n",
    "g. Exit"
   ]
  },
  {
   "cell_type": "code",
   "execution_count": 110,
   "id": "bb654594",
   "metadata": {},
   "outputs": [
    {
     "name": "stdout",
     "output_type": "stream",
     "text": [
      "\n",
      "a. Add new city and trees commonly found in the city.\n",
      "b. Display all cities and the list of trees for all cities. \n",
      "c. Display list of trees of a particular city.\n",
      "d. Display cities which have the given tree.\n",
      "e. Delete city ---- Accept city from user and delete the city if found\n",
      "f. Modify tree list ---- Accept city and trees to be added in the city.\n",
      "g. Exit\n"
     ]
    }
   ],
   "source": [
    "print(\"\"\"\n",
    "a. Add new city and trees commonly found in the city.\n",
    "b. Display all cities and the list of trees for all cities. \n",
    "c. Display list of trees of a particular city.\n",
    "d. Display cities which have the given tree.\n",
    "e. Delete city ---- Accept city from user and delete the city if found\n",
    "f. Modify tree list ---- Accept city and trees to be added in the city.\n",
    "g. Exit\"\"\")"
   ]
  },
  {
   "cell_type": "code",
   "execution_count": 1,
   "id": "281f0ea5",
   "metadata": {},
   "outputs": [],
   "source": [
    "dist={}"
   ]
  },
  {
   "cell_type": "code",
   "execution_count": 8,
   "id": "a33aa971",
   "metadata": {},
   "outputs": [
    {
     "name": "stdout",
     "output_type": "stream",
     "text": [
      "e\n",
      "Enter City Name to Delete:- amba\n",
      "e\n",
      "Enter City Name to Delete:- amb\n",
      "pine\n",
      "b\n",
      "dict_values(['bamboo', 'pine'])\n",
      "g\n"
     ]
    }
   ],
   "source": [
    "while True:\n",
    "    case1 = input()\n",
    "    match case1:\n",
    "        case 'a':\n",
    "            city= input(\"City Name:- \")\n",
    "            trees = input(\"Commonly Found tree name:- \")\n",
    "            dist[city]=trees\n",
    "        case 'b':\n",
    "            print(dist.items())\n",
    "        case 'c':\n",
    "            city= input(\"Enter City Name to get Tree name:- \")\n",
    "            print(dist.get(city))\n",
    "        case 'd':\n",
    "            trees= input(\"Enter Tree name:- \")\n",
    "            cityName = [x for x,y in dist.items() if y==trees]\n",
    "            print(cityName)\n",
    "        case 'e':\n",
    "            city= input(\"Enter City Name to Delete:- \")\n",
    "            if city in dist:\n",
    "                print(dist.pop(city))\n",
    "        case 'g':\n",
    "            break\n",
    "            print(\"Exited\")"
   ]
  },
  {
   "cell_type": "code",
   "execution_count": 5,
   "id": "0a721167",
   "metadata": {},
   "outputs": [
    {
     "name": "stdout",
     "output_type": "stream",
     "text": [
      "{'amb': 'pine', 'pune': 'bamboo', 'parli': 'pine'}\n"
     ]
    }
   ],
   "source": [
    "print(dist)"
   ]
  },
  {
   "cell_type": "markdown",
   "id": "64a7e829",
   "metadata": {},
   "source": [
    "# Q5. Take a sentence as input from user. Every word is seperated by space. \n",
    "a. Create a word_count dictionary which will have unique words and their count. \n",
    "\n",
    "b. create suffix_count dictionary which will contain count of words ending with 's', 'es', 'ed', 'y', 'en' , etc.\n",
    "\n",
    "c. create dictionary word_length_count which will store length of word and count.\n",
    "Ex. \n",
    "input_sent= 'CDAC is in Pune'\n",
    "There are 2 words of length 4 and 2 words of length 2 so,\n",
    "word_length_count = {2:2, 4:2}\n"
   ]
  },
  {
   "cell_type": "code",
   "execution_count": 16,
   "id": "d7c24f44",
   "metadata": {},
   "outputs": [
    {
     "name": "stdout",
     "output_type": "stream",
     "text": [
      "{5: 3, 1: 1, 2: 5, 7: 1, 4: 1, 3: 1, 8: 1}\n"
     ]
    }
   ],
   "source": [
    "sem = \"Hell I am Student of DBDA and studying at IACSD Akurdi\"\n",
    "i=1\n",
    "dist={}\n",
    "# se=\"\"\n",
    "for x in sem:\n",
    "    if x==\" \":\n",
    "#         print(se)\n",
    "#         se=\"\"\n",
    "        s = dist.setdefault(i)\n",
    "#         if s==None:\n",
    "#             dist[i]=1\n",
    "#         else:\n",
    "#             dist[i]+=1\n",
    "        dist[i] = 1 if (s==None)  else (dist[i]+1)\n",
    "        i=0\n",
    "        continue\n",
    "    \n",
    "    i+=1\n",
    "#     se+=x\n",
    "print(dist)"
   ]
  },
  {
   "cell_type": "code",
   "execution_count": 116,
   "id": "32cd667d",
   "metadata": {},
   "outputs": [
    {
     "name": "stdout",
     "output_type": "stream",
     "text": [
      "(0, 1, 2, 3, 4) <class 'tuple'>\n"
     ]
    }
   ],
   "source": [
    "t= tuple( x for x in range(5))\n",
    "print(t, type(t))"
   ]
  },
  {
   "cell_type": "code",
   "execution_count": null,
   "id": "1d788e04",
   "metadata": {},
   "outputs": [],
   "source": []
  }
 ],
 "metadata": {
  "kernelspec": {
   "display_name": "Python 3 (ipykernel)",
   "language": "python",
   "name": "python3"
  },
  "language_info": {
   "codemirror_mode": {
    "name": "ipython",
    "version": 3
   },
   "file_extension": ".py",
   "mimetype": "text/x-python",
   "name": "python",
   "nbconvert_exporter": "python",
   "pygments_lexer": "ipython3",
   "version": "3.11.4"
  }
 },
 "nbformat": 4,
 "nbformat_minor": 5
}
