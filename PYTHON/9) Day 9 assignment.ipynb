{
 "cells": [
  {
   "cell_type": "markdown",
   "id": "3c89dd65",
   "metadata": {},
   "source": [
    "# Q1\n",
    "WA function to take a number as parameter and  print True if given number is even else print False"
   ]
  },
  {
   "cell_type": "code",
   "execution_count": 5,
   "id": "e75aefe5",
   "metadata": {},
   "outputs": [
    {
     "name": "stdout",
     "output_type": "stream",
     "text": [
      "Enter number to check 5\n",
      "False\n"
     ]
    }
   ],
   "source": [
    " def func(num):\n",
    "        if num%2==0:\n",
    "            return \"True\"\n",
    "        else:\n",
    "            return \"False\"\n",
    "\n",
    "num1=int(input(\"Enter number to check \"))\n",
    "print(func(num1))"
   ]
  },
  {
   "cell_type": "markdown",
   "id": "3cb5fb01",
   "metadata": {},
   "source": [
    "# Q2\n",
    "Q WA function to take list as parameter and print all numbers of given list which are divisible by 11"
   ]
  },
  {
   "cell_type": "code",
   "execution_count": 8,
   "id": "993d73ae",
   "metadata": {
    "scrolled": true
   },
   "outputs": [
    {
     "name": "stdout",
     "output_type": "stream",
     "text": [
      "55\n",
      "99\n",
      "22\n",
      "121\n",
      "22\n",
      "720720\n"
     ]
    }
   ],
   "source": [
    "def func1(list1):\n",
    "    for i in list1:\n",
    "        if i%11==0:\n",
    "            print(i)\n",
    "    return\n",
    "\n",
    "l1=[15,55,657,25,99,22,121,22,36874,720720]\n",
    "func(l1)"
   ]
  },
  {
   "cell_type": "markdown",
   "id": "837162db",
   "metadata": {},
   "source": [
    "# Q3\n",
    "Q WA function to take string as parameter\n",
    "Check if string is palindrome are not\n",
    "If palindrome return 1\n",
    "if not palindrome return 0\n"
   ]
  },
  {
   "cell_type": "code",
   "execution_count": 18,
   "id": "204a5d17",
   "metadata": {},
   "outputs": [
    {
     "name": "stdout",
     "output_type": "stream",
     "text": [
      "1\n"
     ]
    }
   ],
   "source": [
    "def func2(string):\n",
    "    if string==string[::-1]:\n",
    "        print(1)\n",
    "    else:\n",
    "        print(0)\n",
    "func2('abba')"
   ]
  },
  {
   "cell_type": "markdown",
   "id": "a58aae33",
   "metadata": {},
   "source": [
    "# Q4\n",
    "Q WA function to check if number is prime or not. Return True if number is prime and false if number not prime."
   ]
  },
  {
   "cell_type": "code",
   "execution_count": 23,
   "id": "8fc5c037",
   "metadata": {},
   "outputs": [
    {
     "name": "stdout",
     "output_type": "stream",
     "text": [
      "True\n"
     ]
    }
   ],
   "source": [
    "def func3(num1):\n",
    "    num2=int(num1**0.5)\n",
    "    for i in range(2,num2+1):\n",
    "        if num1%i==0:\n",
    "            print(\"False\")\n",
    "            return\n",
    "    else:\n",
    "        print(\"True\")\n",
    "        \n",
    "func3(31)           "
   ]
  },
  {
   "cell_type": "markdown",
   "id": "60e98491",
   "metadata": {},
   "source": [
    "# Q5\n",
    "Q WA function to take a string as parameter. Print its alternate characters starting from 2nd character"
   ]
  },
  {
   "cell_type": "code",
   "execution_count": 26,
   "id": "09e4c779",
   "metadata": {},
   "outputs": [
    {
     "name": "stdout",
     "output_type": "stream",
     "text": [
      "d t a "
     ]
    }
   ],
   "source": [
    "def func4(string):\n",
    "    for i in range(1,len(string),2):\n",
    "        print(string[i],end=' ')\n",
    "        \n",
    "func4('Aditya')\n"
   ]
  },
  {
   "cell_type": "code",
   "execution_count": 27,
   "id": "39e1e2ee",
   "metadata": {},
   "outputs": [
    {
     "name": "stdout",
     "output_type": "stream",
     "text": [
      "HVM\n"
     ]
    }
   ],
   "source": [
    "def func4(string):\n",
    "    print(string[1::2])\n",
    "func4(\"SHIVAM\")"
   ]
  },
  {
   "cell_type": "markdown",
   "id": "32e2b85e",
   "metadata": {},
   "source": [
    "# Q6\n",
    "Q WA function to take dictionary as parameter. Print all keys of the dictionary"
   ]
  },
  {
   "cell_type": "code",
   "execution_count": 32,
   "id": "c160196f",
   "metadata": {},
   "outputs": [
    {
     "name": "stdout",
     "output_type": "stream",
     "text": [
      "1\n",
      "2\n",
      "3\n",
      "[1, 2, 3]\n"
     ]
    }
   ],
   "source": [
    "def func5(dict1):\n",
    "    for i in dict1:\n",
    "        print(i)\n",
    "    print(list(dict1.keys()))\n",
    "        \n",
    "dic={1:\"SHIVAM\",2:\"ADITYA\",3:\"SHREYAS\"}\n",
    "func5(dic)"
   ]
  },
  {
   "cell_type": "markdown",
   "id": "3015021a",
   "metadata": {},
   "source": [
    "# Q7\n",
    "Q WA function to take a dictionary as parameter. Print value of key \"name\" if key \"rollno\" is having value 100."
   ]
  },
  {
   "cell_type": "code",
   "execution_count": 33,
   "id": "ff46222c",
   "metadata": {},
   "outputs": [
    {
     "name": "stdout",
     "output_type": "stream",
     "text": [
      "SHIVAM\n"
     ]
    }
   ],
   "source": [
    "def func6(dict1):\n",
    "    if dict1['rollno']==100:\n",
    "            print(dict1['name'])\n",
    "\n",
    "    \n",
    "dic1={\"name\":'SHIVAM','rollno':100}\n",
    "func6(dic1)"
   ]
  },
  {
   "cell_type": "markdown",
   "id": "83fc1b81",
   "metadata": {},
   "source": [
    "# Q8 \n",
    "WA function to list of strings as parameter and print all strings which have character 's' 2 times"
   ]
  },
  {
   "cell_type": "code",
   "execution_count": 42,
   "id": "7ccd5a56",
   "metadata": {},
   "outputs": [
    {
     "name": "stdout",
     "output_type": "stream",
     "text": [
      "shivams\n",
      "shreyas\n",
      "ss\n"
     ]
    }
   ],
   "source": [
    "def func7(list1):\n",
    "    for i in list1:\n",
    "        v=i.count('s')\n",
    "        if v==2:\n",
    "            print(i)\n",
    "        \n",
    "lis1=['shivams','aditya','shreyas','ssss','ss']\n",
    "func7(lis1)"
   ]
  },
  {
   "cell_type": "markdown",
   "id": "93fa100f",
   "metadata": {},
   "source": [
    "# Q9\n",
    "Q WA function to take list of dictionaries. Print all dictionaries which contain key \"id\"."
   ]
  },
  {
   "cell_type": "code",
   "execution_count": 48,
   "id": "7e4b5dfa",
   "metadata": {},
   "outputs": [
    {
     "name": "stdout",
     "output_type": "stream",
     "text": [
      "{'id': 5, 'name': 'shivam'}\n",
      "{'id': 10, 'name': 'atharva'}\n"
     ]
    }
   ],
   "source": [
    "def func8(lis1):\n",
    "    for i in list1:\n",
    "        v=list(i.keys())\n",
    "        for j in v:\n",
    "            if j=='id':\n",
    "                print(i)\n",
    "list1=[{'id':5,'name':'shivam'},{'rollno':45,'name':'aditya'},{'id':10,'name':'atharva'},{'rollno':44,'name':'soham'}]\n",
    "func8(list1)"
   ]
  },
  {
   "cell_type": "code",
   "execution_count": null,
   "id": "28a02786",
   "metadata": {},
   "outputs": [],
   "source": []
  }
 ],
 "metadata": {
  "kernelspec": {
   "display_name": "Python 3 (ipykernel)",
   "language": "python",
   "name": "python3"
  },
  "language_info": {
   "codemirror_mode": {
    "name": "ipython",
    "version": 3
   },
   "file_extension": ".py",
   "mimetype": "text/x-python",
   "name": "python",
   "nbconvert_exporter": "python",
   "pygments_lexer": "ipython3",
   "version": "3.11.4"
  }
 },
 "nbformat": 4,
 "nbformat_minor": 5
}
