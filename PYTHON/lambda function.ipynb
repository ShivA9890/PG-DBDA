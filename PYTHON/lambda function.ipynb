{
 "cells": [
  {
   "cell_type": "markdown",
   "id": "b5e6ce7e",
   "metadata": {},
   "source": [
    "# Lambda Assignment"
   ]
  },
  {
   "cell_type": "markdown",
   "id": "a9686881",
   "metadata": {},
   "source": [
    "Q1 Sort all the numbers in a list in descending order using lambda function"
   ]
  },
  {
   "cell_type": "code",
   "execution_count": 7,
   "id": "4ebc5b51",
   "metadata": {},
   "outputs": [
    {
     "name": "stdout",
     "output_type": "stream",
     "text": [
      "[89, 56, 40, 30, 20, 12, 10]\n"
     ]
    }
   ],
   "source": [
    "l1=[10,20,30,40,56,12,89]\n",
    "print(sorted(l1,key=lambda x:-x))"
   ]
  },
  {
   "cell_type": "markdown",
   "id": "0934e31d",
   "metadata": {},
   "source": [
    "Q1 Sort all the numbers in a list in ascending order using lambda function"
   ]
  },
  {
   "cell_type": "code",
   "execution_count": 72,
   "id": "cd12d119",
   "metadata": {},
   "outputs": [
    {
     "name": "stdout",
     "output_type": "stream",
     "text": [
      "[10, 12, 20, 30, 40, 56, 89]\n"
     ]
    }
   ],
   "source": [
    "l1=[10,20,30,40,56,12,89]\n",
    "print(sorted(l1,key=lambda x:x))"
   ]
  },
  {
   "cell_type": "markdown",
   "id": "2632a2a6",
   "metadata": {},
   "source": [
    "Q2 Given list of strings, sort all the strings by last character of that string. . Use lambda function and normal function both.\n"
   ]
  },
  {
   "cell_type": "code",
   "execution_count": 77,
   "id": "1a9b622a",
   "metadata": {},
   "outputs": [
    {
     "name": "stdout",
     "output_type": "stream",
     "text": [
      "['ansh', 'soham', 'shivam', 'soham', 'shreyas', 'nanu', 'xyz']\n"
     ]
    }
   ],
   "source": [
    "#l1=['soham','ansh','nanu','shivam','xyz']\n",
    "#print(sorted(l1,key=lambda x:x[-1]))\n",
    "def sort1(str1):\n",
    "        return str1[-1]\n",
    "#print(sorted(l1,key= sort1()))\n",
    "l1=['soham','ansh','nanu','shivam','xyz','shreyas','soham']\n",
    "print(sorted(l1,key=sort1))\n"
   ]
  },
  {
   "cell_type": "markdown",
   "id": "8f3d33b7",
   "metadata": {},
   "source": [
    "Q3 Given list of employees. This list may contain repetitions. Find all unique employee names and print them as per order of second character in that name. Use lambda function and normal function both.\n"
   ]
  },
  {
   "cell_type": "code",
   "execution_count": 85,
   "id": "ae1757ac",
   "metadata": {},
   "outputs": [
    {
     "name": "stdout",
     "output_type": "stream",
     "text": [
      "['nanu', 'shivam', 'ansh', 'soham', 'xyz']\n"
     ]
    }
   ],
   "source": [
    "l1=['soham','ansh','nanu','shivam','xyz','shivam','nanu']\n",
    "l1=list(set(l1))\n",
    "def sort1(str1):\n",
    "        return str1[1]\n",
    "print(sorted(l1,key=sort1))"
   ]
  },
  {
   "cell_type": "code",
   "execution_count": 87,
   "id": "65d0cf55",
   "metadata": {},
   "outputs": [
    {
     "name": "stdout",
     "output_type": "stream",
     "text": [
      "['nanu', 'shivam', 'ansh', 'soham', 'xyz']\n"
     ]
    }
   ],
   "source": [
    "l1=['soham','ansh','nanu','shivam','xyz','shivam','nanu']\n",
    "print(sorted(list(set(l1)),key=(lambda x:x[1])))"
   ]
  },
  {
   "cell_type": "code",
   "execution_count": 174,
   "id": "79bc0611",
   "metadata": {},
   "outputs": [
    {
     "name": "stdout",
     "output_type": "stream",
     "text": [
      "[(2, 'Kajal'), (4, 'Riya'), (5, 'Raj'), (6, 'Ram'), (36, 'Ajay')]\n",
      "['Ajay', 'Kajal', 'Raj', 'Ram', 'Riya']\n"
     ]
    }
   ],
   "source": [
    "dict1={2: 'Kajal', 36: 'Ajay', 4: 'Riya', 5: 'Raj', 6: 'Ram'}\n",
    "print(sorted(dict1.items(),key=lambda x:x))\n",
    "print(sorted(dict1.values(),key=lambda x:x))"
   ]
  },
  {
   "cell_type": "markdown",
   "id": "5e46d786",
   "metadata": {},
   "source": [
    "Q5. Take Employee id and Employee name of 5 employees from user. Store it in dictionary.\n",
    "Print all employees in increasing order of employee Id .\n",
    "Also print all employees in alphabetical order by name."
   ]
  },
  {
   "cell_type": "code",
   "execution_count": 106,
   "id": "b5518f46",
   "metadata": {},
   "outputs": [
    {
     "name": "stdout",
     "output_type": "stream",
     "text": [
      "[(1, 'shivam'), (2, 'Ajinkya'), (3, 'soham'), (4, 'ajinkya')]\n",
      "['Ajinkya', 'ajinkya', 'shivam', 'soham']\n",
      "[1, 2, 3, 4]\n"
     ]
    }
   ],
   "source": [
    "d1={1:\"shivam\",2:'Ajinkya',3:'soham',4:'ajinkya'}\n",
    "print(sorted(d1.items(),key=(lambda k:k)))\n",
    "print(sorted(d1.values(),key=(lambda k:k)))\n",
    "print(sorted(d1.keys(),key=(lambda k:k)))"
   ]
  },
  {
   "cell_type": "markdown",
   "id": "34396a76",
   "metadata": {},
   "source": [
    "Q6. Take comma separated numbers as input from the user.\n",
    "Split it in list of strings. Now convert every string in this list to float using map function"
   ]
  },
  {
   "cell_type": "code",
   "execution_count": 99,
   "id": "b1eacb12",
   "metadata": {},
   "outputs": [
    {
     "name": "stdout",
     "output_type": "stream",
     "text": [
      "[1.0, 2.0, 3.0, 4.0, 5.0, 6.0, 7.0, 8.0, 9.0]\n"
     ]
    }
   ],
   "source": [
    "s1='1 2 3 4 5 6 7 8 9'\n",
    "print(list(map(float,s1.split(\" \"))))"
   ]
  },
  {
   "cell_type": "markdown",
   "id": "b75c83f5",
   "metadata": {},
   "source": [
    "Q7 Given list of floating point numbers. \n",
    "Convert every number into string and then join all the numbers such that they are separated by pipe(|)"
   ]
  },
  {
   "cell_type": "code",
   "execution_count": 102,
   "id": "ee35eda8",
   "metadata": {},
   "outputs": [
    {
     "name": "stdout",
     "output_type": "stream",
     "text": [
      "1.1|2.2|3.3|4.4|5.5\n"
     ]
    }
   ],
   "source": [
    "l1=[1.1,2.2,3.3,4.4,5.5]\n",
    "print('|'.join(list(map(str,l1))))"
   ]
  },
  {
   "cell_type": "markdown",
   "id": "a2f98fc7",
   "metadata": {},
   "source": [
    "Q8 Given list of integers.\n",
    "Use map function to calculate square of all and store in list. Then print sum of all square values."
   ]
  },
  {
   "cell_type": "code",
   "execution_count": 111,
   "id": "49c3adf7",
   "metadata": {},
   "outputs": [
    {
     "name": "stdout",
     "output_type": "stream",
     "text": [
      "385\n"
     ]
    }
   ],
   "source": [
    "l1=[1,2,3,4,5,6,7,8,9,10]\n",
    "def squ(n):\n",
    "    return n**2\n",
    "l2=map(squ,l1)\n",
    "#print(sum(list(l2)))\n",
    "print(sum(l2))"
   ]
  }
 ],
 "metadata": {
  "kernelspec": {
   "display_name": "Python 3 (ipykernel)",
   "language": "python",
   "name": "python3"
  },
  "language_info": {
   "codemirror_mode": {
    "name": "ipython",
    "version": 3
   },
   "file_extension": ".py",
   "mimetype": "text/x-python",
   "name": "python",
   "nbconvert_exporter": "python",
   "pygments_lexer": "ipython3",
   "version": "3.11.4"
  }
 },
 "nbformat": 4,
 "nbformat_minor": 5
}
